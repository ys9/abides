{
 "cells": [
  {
   "cell_type": "code",
   "execution_count": 44,
   "id": "initial_id",
   "metadata": {
    "collapsed": true,
    "ExecuteTime": {
     "end_time": "2024-04-04T00:29:05.142093Z",
     "start_time": "2024-04-04T00:29:05.139032Z"
    }
   },
   "outputs": [],
   "source": [
    "import numpy as np \n",
    "import pandas as pd \n",
    "import matplotlib.pyplot as plt\n",
    "import re \n",
    "import os"
   ]
  },
  {
   "cell_type": "code",
   "outputs": [],
   "source": [
    "# write code to compare test results between yshah72_dopamine and SimpleAgent from log directory\n"
   ],
   "metadata": {
    "collapsed": false,
    "ExecuteTime": {
     "end_time": "2024-04-04T00:29:05.925750Z",
     "start_time": "2024-04-04T00:29:05.923850Z"
    }
   },
   "id": "91195476d5fc5c59",
   "execution_count": 45
  },
  {
   "cell_type": "code",
   "outputs": [],
   "source": [
    "# read the log files\n",
    "basePath = '/home/dopamine/abides/log/'\n",
    "yshahAgent = re.compile('.*yshah72_dopamine.*')\n",
    "simpleAgent = re.compile('.*SimpleAgent.*')\n"
   ],
   "metadata": {
    "collapsed": false,
    "ExecuteTime": {
     "end_time": "2024-04-04T00:29:06.272543Z",
     "start_time": "2024-04-04T00:29:06.269271Z"
    }
   },
   "id": "cc21c868c9e9c7c",
   "execution_count": 46
  },
  {
   "cell_type": "code",
   "outputs": [],
   "source": [
    "yshahAgentFiles = []\n",
    "simpleAgentFiles = []\n",
    "\n",
    "for seeds in os.listdir(basePath):\n",
    "    logAgentDir = os.path.join(basePath, seeds)\n",
    "    if not os.path.isdir(logAgentDir) or seeds == 'rmsc01':\n",
    "        continue\n",
    "    for logFile in os.listdir(logAgentDir):\n",
    "        if yshahAgent.match(logFile):\n",
    "            yshahAgentFiles.append(os.path.join(logAgentDir, logFile))\n",
    "        elif simpleAgent.match(logFile):\n",
    "            simpleAgentFiles.append(os.path.join(logAgentDir, logFile))"
   ],
   "metadata": {
    "collapsed": false,
    "ExecuteTime": {
     "end_time": "2024-04-04T00:29:06.674398Z",
     "start_time": "2024-04-04T00:29:06.668445Z"
    }
   },
   "id": "7db2efee1226558e",
   "execution_count": 47
  },
  {
   "cell_type": "code",
   "outputs": [
    {
     "name": "stdout",
     "output_type": "stream",
     "text": [
      "10\n",
      "10\n"
     ]
    }
   ],
   "source": [
    "print(len(yshahAgentFiles))\n",
    "print(len(simpleAgentFiles))"
   ],
   "metadata": {
    "collapsed": false,
    "ExecuteTime": {
     "end_time": "2024-04-04T00:29:07.272037Z",
     "start_time": "2024-04-04T00:29:07.267685Z"
    }
   },
   "id": "d2ba3af231a7c3c9",
   "execution_count": 48
  },
  {
   "cell_type": "code",
   "outputs": [
    {
     "name": "stdout",
     "output_type": "stream",
     "text": [
      "10703768 10218113\n",
      "10155442 10272256\n",
      "10602660 10236510\n",
      "10467388 10256833\n",
      "10765960 10071474\n",
      "10141630 10248456\n",
      "10688443 10275384\n",
      "10909270 10106912\n",
      "10460664 10062247\n",
      "10364980 10250480\n"
     ]
    }
   ],
   "source": [
    "yshahEndingBalance = {}\n",
    "simpleEndingBalance = {}\n",
    "\n",
    "for yshahFile, simpleFile in zip(yshahAgentFiles, simpleAgentFiles):\n",
    "    seed1 = int(yshahFile[len('/home/dopamine/abides/log/rmsc01_'):][:10])\n",
    "    seed2 = int(simpleFile[len('/home/dopamine/abides/log/rmsc01_'):][:10])\n",
    "    \n",
    "    yshahData = pd.read_csv(yshahFile)\n",
    "    simpleData = pd.read_csv(simpleFile)\n",
    "    \n",
    "    yshahEndingBalance[seed1] = int(yshahData['Event'].values[-1])\n",
    "    simpleEndingBalance[seed2] = int(simpleData['Event'].values[-1])\n",
    "    \n",
    "    print(yshahData['Event'].values[-1], simpleData['Event'].values[-1])"
   ],
   "metadata": {
    "collapsed": false,
    "ExecuteTime": {
     "end_time": "2024-04-04T00:29:07.659999Z",
     "start_time": "2024-04-04T00:29:07.624724Z"
    }
   },
   "id": "70d716ec7497fba5",
   "execution_count": 49
  },
  {
   "cell_type": "code",
   "outputs": [
    {
     "data": {
      "text/plain": "               yshah    simple\n4249384825  10703768  10275384\n3474821234  10155442  10250480\n1247119031  10602660  10236510\n2499363477  10467388  10272256\n3264402930  10765960  10248456\n1372395052  10141630  10071474\n1083331779  10688443  10218113\n2464622044  10909270  10256833\n4089674431  10460664  10106912\n1559167024  10364980  10062247",
      "text/html": "<div>\n<style scoped>\n    .dataframe tbody tr th:only-of-type {\n        vertical-align: middle;\n    }\n\n    .dataframe tbody tr th {\n        vertical-align: top;\n    }\n\n    .dataframe thead th {\n        text-align: right;\n    }\n</style>\n<table border=\"1\" class=\"dataframe\">\n  <thead>\n    <tr style=\"text-align: right;\">\n      <th></th>\n      <th>yshah</th>\n      <th>simple</th>\n    </tr>\n  </thead>\n  <tbody>\n    <tr>\n      <td>4249384825</td>\n      <td>10703768</td>\n      <td>10275384</td>\n    </tr>\n    <tr>\n      <td>3474821234</td>\n      <td>10155442</td>\n      <td>10250480</td>\n    </tr>\n    <tr>\n      <td>1247119031</td>\n      <td>10602660</td>\n      <td>10236510</td>\n    </tr>\n    <tr>\n      <td>2499363477</td>\n      <td>10467388</td>\n      <td>10272256</td>\n    </tr>\n    <tr>\n      <td>3264402930</td>\n      <td>10765960</td>\n      <td>10248456</td>\n    </tr>\n    <tr>\n      <td>1372395052</td>\n      <td>10141630</td>\n      <td>10071474</td>\n    </tr>\n    <tr>\n      <td>1083331779</td>\n      <td>10688443</td>\n      <td>10218113</td>\n    </tr>\n    <tr>\n      <td>2464622044</td>\n      <td>10909270</td>\n      <td>10256833</td>\n    </tr>\n    <tr>\n      <td>4089674431</td>\n      <td>10460664</td>\n      <td>10106912</td>\n    </tr>\n    <tr>\n      <td>1559167024</td>\n      <td>10364980</td>\n      <td>10062247</td>\n    </tr>\n  </tbody>\n</table>\n</div>"
     },
     "execution_count": 50,
     "metadata": {},
     "output_type": "execute_result"
    }
   ],
   "source": [
    "df = pd.DataFrame([yshahEndingBalance, simpleEndingBalance]).T\n",
    "df.columns = ['yshah', 'simple']\n",
    "df"
   ],
   "metadata": {
    "collapsed": false,
    "ExecuteTime": {
     "end_time": "2024-04-04T00:29:08.943700Z",
     "start_time": "2024-04-04T00:29:08.932472Z"
    }
   },
   "id": "441d8dba1914fe07",
   "execution_count": 50
  },
  {
   "cell_type": "code",
   "outputs": [
    {
     "data": {
      "text/plain": "               yshah    simple    diff\n4249384825  10703768  10275384  428384\n3474821234  10155442  10250480  -95038\n1247119031  10602660  10236510  366150\n2499363477  10467388  10272256  195132\n3264402930  10765960  10248456  517504\n1372395052  10141630  10071474   70156\n1083331779  10688443  10218113  470330\n2464622044  10909270  10256833  652437\n4089674431  10460664  10106912  353752\n1559167024  10364980  10062247  302733",
      "text/html": "<div>\n<style scoped>\n    .dataframe tbody tr th:only-of-type {\n        vertical-align: middle;\n    }\n\n    .dataframe tbody tr th {\n        vertical-align: top;\n    }\n\n    .dataframe thead th {\n        text-align: right;\n    }\n</style>\n<table border=\"1\" class=\"dataframe\">\n  <thead>\n    <tr style=\"text-align: right;\">\n      <th></th>\n      <th>yshah</th>\n      <th>simple</th>\n      <th>diff</th>\n    </tr>\n  </thead>\n  <tbody>\n    <tr>\n      <td>4249384825</td>\n      <td>10703768</td>\n      <td>10275384</td>\n      <td>428384</td>\n    </tr>\n    <tr>\n      <td>3474821234</td>\n      <td>10155442</td>\n      <td>10250480</td>\n      <td>-95038</td>\n    </tr>\n    <tr>\n      <td>1247119031</td>\n      <td>10602660</td>\n      <td>10236510</td>\n      <td>366150</td>\n    </tr>\n    <tr>\n      <td>2499363477</td>\n      <td>10467388</td>\n      <td>10272256</td>\n      <td>195132</td>\n    </tr>\n    <tr>\n      <td>3264402930</td>\n      <td>10765960</td>\n      <td>10248456</td>\n      <td>517504</td>\n    </tr>\n    <tr>\n      <td>1372395052</td>\n      <td>10141630</td>\n      <td>10071474</td>\n      <td>70156</td>\n    </tr>\n    <tr>\n      <td>1083331779</td>\n      <td>10688443</td>\n      <td>10218113</td>\n      <td>470330</td>\n    </tr>\n    <tr>\n      <td>2464622044</td>\n      <td>10909270</td>\n      <td>10256833</td>\n      <td>652437</td>\n    </tr>\n    <tr>\n      <td>4089674431</td>\n      <td>10460664</td>\n      <td>10106912</td>\n      <td>353752</td>\n    </tr>\n    <tr>\n      <td>1559167024</td>\n      <td>10364980</td>\n      <td>10062247</td>\n      <td>302733</td>\n    </tr>\n  </tbody>\n</table>\n</div>"
     },
     "execution_count": 51,
     "metadata": {},
     "output_type": "execute_result"
    }
   ],
   "source": [
    "df['diff'] = df['yshah'] - df['simple']\n",
    "df"
   ],
   "metadata": {
    "collapsed": false,
    "ExecuteTime": {
     "end_time": "2024-04-04T00:29:11.569837Z",
     "start_time": "2024-04-04T00:29:11.560692Z"
    }
   },
   "id": "a4e2530bf65d1be4",
   "execution_count": 51
  },
  {
   "cell_type": "code",
   "outputs": [
    {
     "data": {
      "text/plain": "1"
     },
     "execution_count": 52,
     "metadata": {},
     "output_type": "execute_result"
    }
   ],
   "source": [
    "(df['diff'] < 0).sum()"
   ],
   "metadata": {
    "collapsed": false,
    "ExecuteTime": {
     "end_time": "2024-04-04T00:29:13.609231Z",
     "start_time": "2024-04-04T00:29:13.602609Z"
    }
   },
   "id": "5cb73547fe0745fe",
   "execution_count": 52
  },
  {
   "cell_type": "code",
   "outputs": [
    {
     "data": {
      "text/plain": "<_sre.SRE_Match object; span=(30, 32), match='01'>"
     },
     "execution_count": 25,
     "metadata": {},
     "output_type": "execute_result"
    }
   ],
   "source": [],
   "metadata": {
    "collapsed": false,
    "ExecuteTime": {
     "end_time": "2024-04-04T00:10:14.790856Z",
     "start_time": "2024-04-04T00:10:14.785172Z"
    }
   },
   "id": "fcd95ee24faf933",
   "execution_count": 25
  },
  {
   "cell_type": "code",
   "outputs": [
    {
     "data": {
      "text/plain": "33"
     },
     "execution_count": 26,
     "metadata": {},
     "output_type": "execute_result"
    }
   ],
   "source": [],
   "metadata": {
    "collapsed": false,
    "ExecuteTime": {
     "end_time": "2024-04-04T00:10:52.141766Z",
     "start_time": "2024-04-04T00:10:52.138383Z"
    }
   },
   "id": "eb47f51e673e6601",
   "execution_count": 26
  },
  {
   "cell_type": "code",
   "outputs": [
    {
     "data": {
      "text/plain": "'1983409615'"
     },
     "execution_count": 28,
     "metadata": {},
     "output_type": "execute_result"
    }
   ],
   "source": [],
   "metadata": {
    "collapsed": false,
    "ExecuteTime": {
     "end_time": "2024-04-04T00:11:27.640357Z",
     "start_time": "2024-04-04T00:11:27.634224Z"
    }
   },
   "id": "3b95939ae27c3c15",
   "execution_count": 28
  },
  {
   "cell_type": "code",
   "outputs": [],
   "source": [],
   "metadata": {
    "collapsed": false
   },
   "id": "9a7c11748af31c1c"
  }
 ],
 "metadata": {
  "kernelspec": {
   "display_name": "Python 3",
   "language": "python",
   "name": "python3"
  },
  "language_info": {
   "codemirror_mode": {
    "name": "ipython",
    "version": 2
   },
   "file_extension": ".py",
   "mimetype": "text/x-python",
   "name": "python",
   "nbconvert_exporter": "python",
   "pygments_lexer": "ipython2",
   "version": "2.7.6"
  }
 },
 "nbformat": 4,
 "nbformat_minor": 5
}
